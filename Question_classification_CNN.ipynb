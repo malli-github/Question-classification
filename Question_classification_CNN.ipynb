{
 "cells": [
  {
   "cell_type": "code",
   "execution_count": 1,
   "metadata": {},
   "outputs": [
    {
     "name": "stderr",
     "output_type": "stream",
     "text": [
      "Using TensorFlow backend.\n"
     ]
    }
   ],
   "source": [
    "from __future__ import division, print_function\n",
    "from gensim import models\n",
    "from keras.callbacks import ModelCheckpoint\n",
    "from keras.layers import Dense, Dropout, Reshape, Flatten, concatenate, Input, Conv1D, GlobalMaxPooling1D, Embedding\n",
    "from keras.layers.recurrent import LSTM\n",
    "from keras.models import Sequential\n",
    "from keras.preprocessing.text import Tokenizer\n",
    "from keras.preprocessing.sequence import pad_sequences\n",
    "from keras.models import Model\n",
    "from sklearn.model_selection import train_test_split\n",
    "import numpy as np\n",
    "import pandas as pd\n",
    "import os\n",
    "import collections\n",
    "import re\n",
    "import string"
   ]
  },
  {
   "cell_type": "code",
   "execution_count": 2,
   "metadata": {},
   "outputs": [],
   "source": [
    "data = pd.read_csv('Resources/LabelledData.csv', header = None, delimiter='\\t')"
   ]
  },
  {
   "cell_type": "code",
   "execution_count": 3,
   "metadata": {},
   "outputs": [],
   "source": [
    "data.columns = ['Question', 'Label']"
   ]
  },
  {
   "cell_type": "code",
   "execution_count": 4,
   "metadata": {},
   "outputs": [
    {
     "data": {
      "text/html": [
       "<div>\n",
       "<style scoped>\n",
       "    .dataframe tbody tr th:only-of-type {\n",
       "        vertical-align: middle;\n",
       "    }\n",
       "\n",
       "    .dataframe tbody tr th {\n",
       "        vertical-align: top;\n",
       "    }\n",
       "\n",
       "    .dataframe thead th {\n",
       "        text-align: right;\n",
       "    }\n",
       "</style>\n",
       "<table border=\"1\" class=\"dataframe\">\n",
       "  <thead>\n",
       "    <tr style=\"text-align: right;\">\n",
       "      <th></th>\n",
       "      <th>Question</th>\n",
       "      <th>Label</th>\n",
       "    </tr>\n",
       "  </thead>\n",
       "  <tbody>\n",
       "    <tr>\n",
       "      <th>0</th>\n",
       "      <td>how did serfdom develop in and then leave russia</td>\n",
       "      <td>unknown</td>\n",
       "    </tr>\n",
       "    <tr>\n",
       "      <th>1</th>\n",
       "      <td>what films featured the character popeye doyle</td>\n",
       "      <td>what</td>\n",
       "    </tr>\n",
       "    <tr>\n",
       "      <th>2</th>\n",
       "      <td>how can i find a list of celebrities ' real names</td>\n",
       "      <td>unknown</td>\n",
       "    </tr>\n",
       "    <tr>\n",
       "      <th>3</th>\n",
       "      <td>what fowl grabs the spotlight after the chines...</td>\n",
       "      <td>what</td>\n",
       "    </tr>\n",
       "    <tr>\n",
       "      <th>4</th>\n",
       "      <td>what is the full form of .com</td>\n",
       "      <td>what</td>\n",
       "    </tr>\n",
       "  </tbody>\n",
       "</table>\n",
       "</div>"
      ],
      "text/plain": [
       "                                            Question    Label\n",
       "0   how did serfdom develop in and then leave russia  unknown\n",
       "1     what films featured the character popeye doyle     what\n",
       "2  how can i find a list of celebrities ' real names  unknown\n",
       "3  what fowl grabs the spotlight after the chines...     what\n",
       "4                      what is the full form of .com     what"
      ]
     },
     "execution_count": 4,
     "metadata": {},
     "output_type": "execute_result"
    }
   ],
   "source": [
    "data.head()"
   ]
  },
  {
   "cell_type": "code",
   "execution_count": 5,
   "metadata": {},
   "outputs": [
    {
     "data": {
      "text/plain": [
       "array(['unknown', 'what', 'when', 'who', 'affirmation'], dtype=object)"
      ]
     },
     "execution_count": 5,
     "metadata": {},
     "output_type": "execute_result"
    }
   ],
   "source": [
    "data.Label.unique()"
   ]
  },
  {
   "cell_type": "code",
   "execution_count": 6,
   "metadata": {},
   "outputs": [
    {
     "data": {
      "text/plain": [
       "(1483, 2)"
      ]
     },
     "execution_count": 6,
     "metadata": {},
     "output_type": "execute_result"
    }
   ],
   "source": [
    "data.shape"
   ]
  },
  {
   "cell_type": "code",
   "execution_count": 7,
   "metadata": {},
   "outputs": [],
   "source": [
    "def clean_str(string):\n",
    "    \"\"\"\n",
    "    Tokenization/string cleaning for all datasets\n",
    "    \"\"\"\n",
    "    string = re.sub(r\"\\'s\", \" \\'s\", string)\n",
    "    string = re.sub(r\"\\'ve\", \" \\'ve\", string)\n",
    "    string = re.sub(r\"n\\'t\", \" n\\'t\", string)\n",
    "    string = re.sub(r\"\\'re\", \" \\'re\", string)\n",
    "    string = re.sub(r\"\\'d\", \" \\'d\", string)\n",
    "    string = re.sub(r\"\\'ll\", \" \\'ll\", string)\n",
    "    string = re.sub(r\",\", \" , \", string)\n",
    "    string = re.sub(r\"!\", \" ! \", string)\n",
    "    string = re.sub(r\"\\(\", \" \\( \", string)\n",
    "    string = re.sub(r\"\\)\", \" \\) \", string)\n",
    "    string = re.sub(r\"\\?\", \" \\? \", string)\n",
    "    string = re.sub(r\"\\s{2,}\", \" \", string)\n",
    "    return string.strip().lower()"
   ]
  },
  {
   "cell_type": "code",
   "execution_count": 8,
   "metadata": {},
   "outputs": [],
   "source": [
    "\n",
    "import csv\n",
    "training = []\n",
    "line_counter = 0\n",
    "with open(\"Resources/LabelledData.csv\",'r') as f:\n",
    "    tsv = csv.reader(f, dialect='excel', delimiter='\\t')\n",
    "    for line in tsv:\n",
    "        if line_counter < 900:\n",
    "            training.append(line[0])\n",
    "        else:\n",
    "            break\n",
    "            line_counter = line_counter+1\n",
    "    # training_data = list(training)\n",
    "    training_data = [s.strip() for s in training]\n",
    "    # Split by words\n",
    "    x_text = training_data\n",
    "    x_text = [clean_str(sent) for sent in x_text]  "
   ]
  },
  {
   "cell_type": "code",
   "execution_count": 9,
   "metadata": {},
   "outputs": [],
   "source": [
    "\n",
    "t = open('check.txt','wt')\n",
    "label =[]\n",
    "labels=[]\n",
    "line_counter = 0\n",
    "with open(\"Resources/LabelledData.csv\",'r') as f:\n",
    "    tsv = csv.reader(f, dialect='excel', delimiter='\\t')\n",
    "    for line in tsv:\n",
    "        if line_counter<900:\n",
    "            label.append(line[1])\n",
    "        else:\n",
    "            break\n",
    "            line_counter =  line_counter +1\n",
    "    labels =label\n",
    "    tempList = []\n",
    "    labelList = []\n",
    "    for a in label:\n",
    "        t.write(a)\n",
    "        t.write('--')\n",
    "        if not a in tempList:\n",
    "            tempList.append(a)\n",
    "            labelList.append(tempList.index(a))\n",
    "            t.write(str(tempList.index(a)))\n",
    "            t.write('\\n')\n",
    "        else:\n",
    "            labelList.append(tempList.index(a))\n",
    "    n_labels = len(labelList)\n",
    "    target = []\n",
    "    for x in range(0,n_labels):\n",
    "        listFori = []\n",
    "        i=0\n",
    "        while i < len(tempList):\n",
    "            if i == labelList[x]:\n",
    "                listFori.append(1)\n",
    "            else:\n",
    "                listFori.append(0)\n",
    "            i = i+1\n",
    "        target.append(listFori)\n",
    "    y = np.concatenate([target],0)"
   ]
  },
  {
   "cell_type": "code",
   "execution_count": 10,
   "metadata": {},
   "outputs": [
    {
     "data": {
      "text/plain": [
       "['unknown', 'what', 'when', 'who', 'affirmation']"
      ]
     },
     "execution_count": 10,
     "metadata": {},
     "output_type": "execute_result"
    }
   ],
   "source": [
    "tempList"
   ]
  },
  {
   "cell_type": "code",
   "execution_count": 11,
   "metadata": {},
   "outputs": [
    {
     "name": "stdout",
     "output_type": "stream",
     "text": [
      "1483\n"
     ]
    }
   ],
   "source": [
    "print(len(x_text))"
   ]
  },
  {
   "cell_type": "code",
   "execution_count": 12,
   "metadata": {},
   "outputs": [
    {
     "data": {
      "text/plain": [
       "'would this work on a 2008 ford edge with a naked roof'"
      ]
     },
     "execution_count": 12,
     "metadata": {},
     "output_type": "execute_result"
    }
   ],
   "source": [
    "x_text[1482]"
   ]
  },
  {
   "cell_type": "code",
   "execution_count": 13,
   "metadata": {},
   "outputs": [],
   "source": [
    "MAX_WORDS = 10000\n",
    "MAX_SEQUENCE_LENGTH = 1000\n",
    "EMBEDDING_DIM = 100\n",
    "# filter sizes of the different conv layers \n",
    "filter_sizes = [3,4,5]\n",
    "num_filters = 512\n",
    "embedding_dim = 100\n",
    "# dropout probability\n",
    "drop = 0.5\n",
    "batch_size = 30\n",
    "epochs =30"
   ]
  },
  {
   "cell_type": "code",
   "execution_count": 14,
   "metadata": {},
   "outputs": [
    {
     "name": "stdout",
     "output_type": "stream",
     "text": [
      "Found 400000 word vectors.\n"
     ]
    }
   ],
   "source": [
    "GLOVE_DIR='./GLOVE.6B/'\n",
    "embeddings_index = {}\n",
    "FILE=os.path.join(GLOVE_DIR, 'glove.6B.100d.txt')\n",
    "f = open(FILE,encoding='utf-8')\n",
    "for line in f:\n",
    "    values = line.split()\n",
    "    word = values[0]\n",
    "    coefs = np.asarray(values[1:], dtype='float32')\n",
    "    embeddings_index[word] = coefs\n",
    "f.close()\n",
    "print('Found %s word vectors.' % len(embeddings_index))"
   ]
  },
  {
   "cell_type": "code",
   "execution_count": 15,
   "metadata": {},
   "outputs": [
    {
     "name": "stdout",
     "output_type": "stream",
     "text": [
      "None\n",
      "1483\n",
      "unique words : 3674\n",
      "Shape of data tensor: (1483, 1000)\n",
      "Shape of label tensor: (1483, 5)\n",
      "1483\n"
     ]
    }
   ],
   "source": [
    "from keras.preprocessing.text import Tokenizer\n",
    "from keras.preprocessing.sequence import pad_sequences\n",
    "from keras.utils import to_categorical\n",
    "tokenizer  = Tokenizer(num_words = MAX_WORDS)\n",
    "print(tokenizer.fit_on_texts(x_text))\n",
    "sequences =  tokenizer.texts_to_sequences(x_text)\n",
    "print(len(sequences))\n",
    "word_index = tokenizer.word_index\n",
    "print(\"unique words : {}\".format(len(word_index)))\n",
    "data = pad_sequences(sequences, maxlen=MAX_SEQUENCE_LENGTH)\n",
    "labels = to_categorical(np.asarray(y))\n",
    "print('Shape of data tensor:', data.shape)\n",
    "print('Shape of label tensor:', y.shape)\n",
    "print(len(labels))"
   ]
  },
  {
   "cell_type": "code",
   "execution_count": 16,
   "metadata": {},
   "outputs": [],
   "source": [
    "indices = np.arange(data.shape[0])\n",
    "np.random.shuffle(indices)\n",
    "data = data[indices]\n",
    "y = y[indices]\n",
    "nb_validation_samples = int(0.10 * data.shape[0])\n",
    "x_train = data[:-nb_validation_samples]\n",
    "y_train = y[:-nb_validation_samples]\n",
    "x_test = data[-nb_validation_samples:]\n",
    "y_test = y[-nb_validation_samples:]"
   ]
  },
  {
   "cell_type": "code",
   "execution_count": 23,
   "metadata": {},
   "outputs": [
    {
     "name": "stdout",
     "output_type": "stream",
     "text": [
      "1335\n"
     ]
    }
   ],
   "source": [
    "print(len(x_train))"
   ]
  },
  {
   "cell_type": "code",
   "execution_count": 24,
   "metadata": {},
   "outputs": [
    {
     "name": "stdout",
     "output_type": "stream",
     "text": [
      "148\n"
     ]
    }
   ],
   "source": [
    "print(len(x_test))"
   ]
  },
  {
   "cell_type": "code",
   "execution_count": 25,
   "metadata": {},
   "outputs": [
    {
     "name": "stdout",
     "output_type": "stream",
     "text": [
      "1335\n"
     ]
    }
   ],
   "source": [
    "print(len(y_train))"
   ]
  },
  {
   "cell_type": "code",
   "execution_count": 26,
   "metadata": {},
   "outputs": [
    {
     "name": "stdout",
     "output_type": "stream",
     "text": [
      "148\n"
     ]
    }
   ],
   "source": [
    "print(len(y_test))"
   ]
  },
  {
   "cell_type": "code",
   "execution_count": 27,
   "metadata": {},
   "outputs": [],
   "source": [
    "embedding_matrix = np.zeros((len(word_index) + 1, EMBEDDING_DIM))\n",
    "for word, i in word_index.items():\n",
    "    embedding_vector = embeddings_index.get(word)\n",
    "    if embedding_vector is not None:\n",
    "        # words not found in embedding index will be all-zeros.\n",
    "        embedding_matrix[i] = embedding_vector"
   ]
  },
  {
   "cell_type": "code",
   "execution_count": 28,
   "metadata": {},
   "outputs": [
    {
     "data": {
      "text/plain": [
       "(3675, 100)"
      ]
     },
     "execution_count": 28,
     "metadata": {},
     "output_type": "execute_result"
    }
   ],
   "source": [
    "embedding_matrix.shape"
   ]
  },
  {
   "cell_type": "code",
   "execution_count": 29,
   "metadata": {},
   "outputs": [],
   "source": [
    "from keras.layers import Embedding\n",
    "\n",
    "embedding_layer = Embedding(len(word_index) + 1,\n",
    "                            EMBEDDING_DIM,\n",
    "                            weights=[embedding_matrix],\n",
    "                               input_length=MAX_SEQUENCE_LENGTH,\n",
    "                             trainable=False)"
   ]
  },
  {
   "cell_type": "code",
   "execution_count": 30,
   "metadata": {},
   "outputs": [
    {
     "name": "stdout",
     "output_type": "stream",
     "text": [
      "(None, 1000, 100)\n",
      "Tensor(\"dense_1/Softmax:0\", shape=(None, 5), dtype=float32)\n",
      "Model: \"model_1\"\n",
      "__________________________________________________________________________________________________\n",
      "Layer (type)                    Output Shape         Param #     Connected to                     \n",
      "==================================================================================================\n",
      "input_1 (InputLayer)            (None, 1000)         0                                            \n",
      "__________________________________________________________________________________________________\n",
      "embedding_1 (Embedding)         (None, 1000, 100)    367500      input_1[0][0]                    \n",
      "__________________________________________________________________________________________________\n",
      "reshape_1 (Reshape)             (None, 1000, 100, 1) 0           embedding_1[0][0]                \n",
      "__________________________________________________________________________________________________\n",
      "conv2d_1 (Conv2D)               (None, 998, 1, 512)  154112      reshape_1[0][0]                  \n",
      "__________________________________________________________________________________________________\n",
      "conv2d_2 (Conv2D)               (None, 997, 1, 512)  205312      reshape_1[0][0]                  \n",
      "__________________________________________________________________________________________________\n",
      "conv2d_3 (Conv2D)               (None, 996, 1, 512)  256512      reshape_1[0][0]                  \n",
      "__________________________________________________________________________________________________\n",
      "max_pooling2d_1 (MaxPooling2D)  (None, 1, 1, 512)    0           conv2d_1[0][0]                   \n",
      "__________________________________________________________________________________________________\n",
      "max_pooling2d_2 (MaxPooling2D)  (None, 1, 1, 512)    0           conv2d_2[0][0]                   \n",
      "__________________________________________________________________________________________________\n",
      "max_pooling2d_3 (MaxPooling2D)  (None, 1, 1, 512)    0           conv2d_3[0][0]                   \n",
      "__________________________________________________________________________________________________\n",
      "concatenate_1 (Concatenate)     (None, 3, 1, 512)    0           max_pooling2d_1[0][0]            \n",
      "                                                                 max_pooling2d_2[0][0]            \n",
      "                                                                 max_pooling2d_3[0][0]            \n",
      "__________________________________________________________________________________________________\n",
      "flatten_1 (Flatten)             (None, 1536)         0           concatenate_1[0][0]              \n",
      "__________________________________________________________________________________________________\n",
      "dropout_1 (Dropout)             (None, 1536)         0           flatten_1[0][0]                  \n",
      "__________________________________________________________________________________________________\n",
      "dense_1 (Dense)                 (None, 5)            7685        dropout_1[0][0]                  \n",
      "==================================================================================================\n",
      "Total params: 991,121\n",
      "Trainable params: 623,621\n",
      "Non-trainable params: 367,500\n",
      "__________________________________________________________________________________________________\n"
     ]
    }
   ],
   "source": [
    "from keras.layers import Activation, Conv2D, Input, Embedding, Reshape, MaxPool2D, Concatenate, Flatten, Dropout, Dense, Conv1D\n",
    "from keras.layers import MaxPool1D\n",
    "from keras.models import Model\n",
    "from keras.callbacks import ModelCheckpoint\n",
    "from keras.optimizers import Adam\n",
    "inputs = Input(shape=(MAX_SEQUENCE_LENGTH,), dtype='int32')\n",
    "embedding = embedding_layer(inputs)\n",
    "\n",
    "print(embedding.shape)\n",
    "reshape = Reshape((MAX_SEQUENCE_LENGTH,EMBEDDING_DIM,1))(embedding)\n",
    "#print(reshape.shape)\n",
    "\n",
    "conv_0 = Conv2D(num_filters, kernel_size=(filter_sizes[0], embedding_dim), padding='valid', kernel_initializer='normal',activation='relu')(reshape)\n",
    "conv_1 = Conv2D(num_filters, kernel_size=(filter_sizes[1], embedding_dim), padding='valid', kernel_initializer='normal',activation='relu')(reshape)\n",
    "conv_2 = Conv2D(num_filters, kernel_size=(filter_sizes[2], embedding_dim), padding='valid', kernel_initializer='normal',activation='relu')(reshape)\n",
    "\n",
    "maxpool_0 = MaxPool2D(pool_size=(MAX_SEQUENCE_LENGTH - filter_sizes[0] +1, 1), strides=(1,1), padding='valid')(conv_0)\n",
    "maxpool_1 = MaxPool2D(pool_size=(MAX_SEQUENCE_LENGTH - filter_sizes[1] + 1, 1), strides=(1,1), padding='valid')(conv_1)\n",
    "maxpool_2 = MaxPool2D(pool_size=(MAX_SEQUENCE_LENGTH - filter_sizes[2] + 1, 1), strides=(1,1), padding='valid')(conv_2)\n",
    "\n",
    "\n",
    "concatenated_tensor = Concatenate(axis=1)([maxpool_0, maxpool_1, maxpool_2])\n",
    "flatten = Flatten()(concatenated_tensor)\n",
    "dropout = Dropout(drop)(flatten)\n",
    "output = Dense(units=5, activation='softmax')(dropout)\n",
    "print(output)\n",
    "\n",
    "# this creates a model that includes\n",
    "model = Model(inputs=inputs, outputs=output)\n",
    "\n",
    "checkpoint = ModelCheckpoint('weights_cnn_sentece.hdf5', monitor='val_acc', verbose=1, save_best_only=True, mode='auto')\n",
    "adam = Adam(lr=1e-4, beta_1=0.9, beta_2=0.999, epsilon=1e-08, decay=0.0)\n",
    "\n",
    "model.compile(optimizer=adam, loss='categorical_crossentropy', metrics=['accuracy'])\n",
    "model.summary()"
   ]
  },
  {
   "cell_type": "code",
   "execution_count": 31,
   "metadata": {},
   "outputs": [
    {
     "name": "stdout",
     "output_type": "stream",
     "text": [
      "Traning Model...\n",
      "Epoch 1/50\n",
      "1335/1335 [==============================] - 119s 89ms/step - loss: 1.2963 - accuracy: 0.5356\n",
      "Epoch 2/50\n"
     ]
    },
    {
     "name": "stderr",
     "output_type": "stream",
     "text": [
      "C:\\Users\\Chindukuri\\.conda\\envs\\tensorflow\\lib\\site-packages\\keras\\callbacks\\callbacks.py:707: RuntimeWarning: Can save best model only with val_acc available, skipping.\n",
      "  'skipping.' % (self.monitor), RuntimeWarning)\n"
     ]
    },
    {
     "name": "stdout",
     "output_type": "stream",
     "text": [
      "1335/1335 [==============================] - 121s 91ms/step - loss: 0.7545 - accuracy: 0.7161\n",
      "Epoch 3/50\n",
      "1335/1335 [==============================] - 121s 91ms/step - loss: 0.5065 - accuracy: 0.8292\n",
      "Epoch 4/50\n",
      "1335/1335 [==============================] - 121s 90ms/step - loss: 0.3763 - accuracy: 0.8839\n",
      "Epoch 5/50\n",
      "1335/1335 [==============================] - 120s 90ms/step - loss: 0.2956 - accuracy: 0.9161\n",
      "Epoch 6/50\n",
      "1335/1335 [==============================] - 120s 90ms/step - loss: 0.2416 - accuracy: 0.9273\n",
      "Epoch 7/50\n",
      "1335/1335 [==============================] - 122s 91ms/step - loss: 0.1966 - accuracy: 0.9491\n",
      "Epoch 8/50\n",
      "1335/1335 [==============================] - 121s 90ms/step - loss: 0.1584 - accuracy: 0.9610\n",
      "Epoch 9/50\n",
      "1335/1335 [==============================] - 125s 93ms/step - loss: 0.1326 - accuracy: 0.9708\n",
      "Epoch 10/50\n",
      "1335/1335 [==============================] - 121s 91ms/step - loss: 0.1133 - accuracy: 0.9730\n",
      "Epoch 11/50\n",
      "1335/1335 [==============================] - 120s 90ms/step - loss: 0.1046 - accuracy: 0.9783\n",
      "Epoch 12/50\n",
      "1335/1335 [==============================] - 123s 92ms/step - loss: 0.0794 - accuracy: 0.9835\n",
      "Epoch 13/50\n",
      "1335/1335 [==============================] - 139s 104ms/step - loss: 0.0762 - accuracy: 0.9880\n",
      "Epoch 14/50\n",
      "1335/1335 [==============================] - 135s 101ms/step - loss: 0.0642 - accuracy: 0.9918\n",
      "Epoch 15/50\n",
      "1335/1335 [==============================] - 131s 98ms/step - loss: 0.0561 - accuracy: 0.9918\n",
      "Epoch 16/50\n",
      "1335/1335 [==============================] - 133s 99ms/step - loss: 0.0501 - accuracy: 0.9918\n",
      "Epoch 17/50\n",
      "1335/1335 [==============================] - 123s 92ms/step - loss: 0.0476 - accuracy: 0.9925\n",
      "Epoch 18/50\n",
      "1335/1335 [==============================] - 126s 94ms/step - loss: 0.0361 - accuracy: 0.9963\n",
      "Epoch 19/50\n",
      "1335/1335 [==============================] - 128s 96ms/step - loss: 0.0341 - accuracy: 0.9970\n",
      "Epoch 20/50\n",
      "1335/1335 [==============================] - 123s 92ms/step - loss: 0.0307 - accuracy: 0.9963\n",
      "Epoch 21/50\n",
      "1335/1335 [==============================] - 120s 90ms/step - loss: 0.0285 - accuracy: 0.9963\n",
      "Epoch 22/50\n",
      "1335/1335 [==============================] - 125s 93ms/step - loss: 0.0231 - accuracy: 0.9993\n",
      "Epoch 23/50\n",
      "1335/1335 [==============================] - 123s 92ms/step - loss: 0.0211 - accuracy: 0.9978\n",
      "Epoch 24/50\n",
      "1335/1335 [==============================] - 133s 100ms/step - loss: 0.0174 - accuracy: 0.9985\n",
      "Epoch 25/50\n",
      "1335/1335 [==============================] - 146s 110ms/step - loss: 0.0168 - accuracy: 1.0000\n",
      "Epoch 26/50\n",
      "1335/1335 [==============================] - 146s 110ms/step - loss: 0.0146 - accuracy: 0.9985\n",
      "Epoch 27/50\n",
      "1335/1335 [==============================] - 147s 110ms/step - loss: 0.0130 - accuracy: 0.9993\n",
      "Epoch 28/50\n",
      "1335/1335 [==============================] - 148s 111ms/step - loss: 0.0120 - accuracy: 1.0000\n",
      "Epoch 29/50\n",
      "1335/1335 [==============================] - 148s 111ms/step - loss: 0.0128 - accuracy: 0.9985\n",
      "Epoch 30/50\n",
      "1335/1335 [==============================] - 149s 112ms/step - loss: 0.0111 - accuracy: 0.9985\n",
      "Epoch 31/50\n",
      "1335/1335 [==============================] - 149s 112ms/step - loss: 0.0085 - accuracy: 1.0000\n",
      "Epoch 32/50\n",
      "1335/1335 [==============================] - 150s 113ms/step - loss: 0.0095 - accuracy: 0.9993\n",
      "Epoch 33/50\n",
      "1335/1335 [==============================] - 148s 111ms/step - loss: 0.0087 - accuracy: 0.9993\n",
      "Epoch 34/50\n",
      "1335/1335 [==============================] - 149s 112ms/step - loss: 0.0071 - accuracy: 1.0000\n",
      "Epoch 35/50\n",
      "1335/1335 [==============================] - 150s 112ms/step - loss: 0.0090 - accuracy: 0.9985\n",
      "Epoch 36/50\n",
      "1335/1335 [==============================] - 152s 114ms/step - loss: 0.0073 - accuracy: 0.9993\n",
      "Epoch 37/50\n",
      "1335/1335 [==============================] - 152s 114ms/step - loss: 0.0059 - accuracy: 1.0000\n",
      "Epoch 38/50\n",
      "1335/1335 [==============================] - 153s 114ms/step - loss: 0.0061 - accuracy: 1.0000\n",
      "Epoch 39/50\n",
      "1335/1335 [==============================] - 153s 115ms/step - loss: 0.0042 - accuracy: 1.0000\n",
      "Epoch 40/50\n",
      "1335/1335 [==============================] - 153s 115ms/step - loss: 0.0043 - accuracy: 1.0000\n",
      "Epoch 41/50\n",
      "1335/1335 [==============================] - 150s 113ms/step - loss: 0.0045 - accuracy: 1.0000\n",
      "Epoch 42/50\n",
      "1335/1335 [==============================] - 150s 112ms/step - loss: 0.0038 - accuracy: 1.0000\n",
      "Epoch 43/50\n",
      "1335/1335 [==============================] - 150s 112ms/step - loss: 0.0037 - accuracy: 1.0000\n",
      "Epoch 44/50\n",
      "1335/1335 [==============================] - 157s 118ms/step - loss: 0.0032 - accuracy: 1.0000\n",
      "Epoch 45/50\n",
      "1335/1335 [==============================] - 162s 122ms/step - loss: 0.0033 - accuracy: 1.0000\n",
      "Epoch 46/50\n",
      "1335/1335 [==============================] - 166s 124ms/step - loss: 0.0024 - accuracy: 1.0000\n",
      "Epoch 47/50\n",
      "1335/1335 [==============================] - 164s 123ms/step - loss: 0.0024 - accuracy: 1.0000\n",
      "Epoch 48/50\n",
      "1335/1335 [==============================] - 175s 131ms/step - loss: 0.0021 - accuracy: 1.0000\n",
      "Epoch 49/50\n",
      "1335/1335 [==============================] - 182s 136ms/step - loss: 0.0028 - accuracy: 0.9993\n",
      "Epoch 50/50\n",
      "1335/1335 [==============================] - 175s 131ms/step - loss: 0.0024 - accuracy: 1.0000\n"
     ]
    },
    {
     "data": {
      "text/plain": [
       "<keras.callbacks.callbacks.History at 0x188da699f60>"
      ]
     },
     "execution_count": 31,
     "metadata": {},
     "output_type": "execute_result"
    }
   ],
   "source": [
    "print(\"Traning Model...\")\n",
    "model.fit(x_train, y_train, batch_size=10, epochs=50 , verbose=1, callbacks=[checkpoint])"
   ]
  },
  {
   "cell_type": "code",
   "execution_count": 32,
   "metadata": {
    "scrolled": true
   },
   "outputs": [
    {
     "name": "stdout",
     "output_type": "stream",
     "text": [
      "Test loss: 0.08382667973637581\n",
      "Test accuracy: 0.9729729890823364\n"
     ]
    }
   ],
   "source": [
    "score = model.evaluate(x_test, y_test, verbose=0)  \n",
    "print('Test loss:', score[0])\n",
    "print('Test accuracy:', score[1])"
   ]
  },
  {
   "cell_type": "code",
   "execution_count": 33,
   "metadata": {},
   "outputs": [
    {
     "name": "stdout",
     "output_type": "stream",
     "text": [
      "\r",
      "148/148 [==============================] - 116s 781ms/step\n"
     ]
    }
   ],
   "source": [
    "predictions = model.predict(x_test, batch_size=1024,   verbose=1)\n",
    "labels = ['unknown', 'what', 'when', 'who', 'affirmation']\n",
    "prediction_labels=[]\n",
    "for p in predictions:\n",
    "    prediction_labels.append(labels[np.argmax(p)])"
   ]
  },
  {
   "cell_type": "code",
   "execution_count": 34,
   "metadata": {},
   "outputs": [
    {
     "data": {
      "text/plain": [
       "['who',\n",
       " 'what',\n",
       " 'what',\n",
       " 'what',\n",
       " 'who',\n",
       " 'what',\n",
       " 'affirmation',\n",
       " 'unknown',\n",
       " 'what',\n",
       " 'what',\n",
       " 'unknown',\n",
       " 'what',\n",
       " 'what',\n",
       " 'what',\n",
       " 'what',\n",
       " 'what',\n",
       " 'who',\n",
       " 'who',\n",
       " 'who',\n",
       " 'who',\n",
       " 'what',\n",
       " 'who',\n",
       " 'what',\n",
       " 'affirmation',\n",
       " 'unknown',\n",
       " 'who',\n",
       " 'what',\n",
       " 'unknown',\n",
       " 'what',\n",
       " 'what',\n",
       " 'what',\n",
       " 'who',\n",
       " 'what',\n",
       " 'what',\n",
       " 'what',\n",
       " 'what',\n",
       " 'who',\n",
       " 'unknown',\n",
       " 'who',\n",
       " 'who',\n",
       " 'what',\n",
       " 'what',\n",
       " 'what',\n",
       " 'what',\n",
       " 'unknown',\n",
       " 'unknown',\n",
       " 'what',\n",
       " 'unknown',\n",
       " 'affirmation',\n",
       " 'unknown',\n",
       " 'who',\n",
       " 'unknown',\n",
       " 'what',\n",
       " 'unknown',\n",
       " 'what',\n",
       " 'affirmation',\n",
       " 'unknown',\n",
       " 'what',\n",
       " 'who',\n",
       " 'what',\n",
       " 'unknown',\n",
       " 'who',\n",
       " 'who',\n",
       " 'what',\n",
       " 'what',\n",
       " 'what',\n",
       " 'when',\n",
       " 'what',\n",
       " 'unknown',\n",
       " 'unknown',\n",
       " 'what',\n",
       " 'what',\n",
       " 'unknown',\n",
       " 'what',\n",
       " 'what',\n",
       " 'what',\n",
       " 'who',\n",
       " 'what',\n",
       " 'what',\n",
       " 'when',\n",
       " 'what',\n",
       " 'what',\n",
       " 'who',\n",
       " 'unknown',\n",
       " 'what',\n",
       " 'who',\n",
       " 'unknown',\n",
       " 'what',\n",
       " 'who',\n",
       " 'unknown',\n",
       " 'who',\n",
       " 'unknown',\n",
       " 'what',\n",
       " 'what',\n",
       " 'what',\n",
       " 'unknown',\n",
       " 'who',\n",
       " 'what',\n",
       " 'what',\n",
       " 'who',\n",
       " 'what',\n",
       " 'unknown',\n",
       " 'what',\n",
       " 'what',\n",
       " 'who',\n",
       " 'who',\n",
       " 'who',\n",
       " 'what',\n",
       " 'who',\n",
       " 'who',\n",
       " 'what',\n",
       " 'unknown',\n",
       " 'who',\n",
       " 'what',\n",
       " 'what',\n",
       " 'what',\n",
       " 'who',\n",
       " 'what',\n",
       " 'what',\n",
       " 'unknown',\n",
       " 'when',\n",
       " 'what',\n",
       " 'when',\n",
       " 'who',\n",
       " 'unknown',\n",
       " 'who',\n",
       " 'who',\n",
       " 'what',\n",
       " 'who',\n",
       " 'what',\n",
       " 'unknown',\n",
       " 'unknown',\n",
       " 'what',\n",
       " 'who',\n",
       " 'affirmation',\n",
       " 'what',\n",
       " 'what',\n",
       " 'unknown',\n",
       " 'what',\n",
       " 'who',\n",
       " 'unknown',\n",
       " 'affirmation',\n",
       " 'what',\n",
       " 'what',\n",
       " 'what',\n",
       " 'what',\n",
       " 'what',\n",
       " 'what']"
      ]
     },
     "execution_count": 34,
     "metadata": {},
     "output_type": "execute_result"
    }
   ],
   "source": [
    "prediction_labels"
   ]
  },
  {
   "cell_type": "code",
   "execution_count": null,
   "metadata": {},
   "outputs": [],
   "source": [
    "        +\n",
    "    \n",
    "    "
   ]
  }
 ],
 "metadata": {
  "kernelspec": {
   "display_name": "Python 3",
   "language": "python",
   "name": "python3"
  },
  "language_info": {
   "codemirror_mode": {
    "name": "ipython",
    "version": 3
   },
   "file_extension": ".py",
   "mimetype": "text/x-python",
   "name": "python",
   "nbconvert_exporter": "python",
   "pygments_lexer": "ipython3",
   "version": "3.6.10"
  }
 },
 "nbformat": 4,
 "nbformat_minor": 2
}
